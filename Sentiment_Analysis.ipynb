{
 "cells": [
  {
   "cell_type": "markdown",
   "metadata": {},
   "source": [
    "Copyright (c) Microsoft Corporation. All rights reserved."
   ]
  },
  {
   "cell_type": "markdown",
   "metadata": {},
   "source": [
    "![Impressions](https://PixelServer20190423114238.azurewebsites.net/api/impressions/NotebookVM/tutorials/regression-part2-automated-ml.png)"
   ]
  },
  {
   "cell_type": "markdown",
   "metadata": {},
   "source": [
    "## Import Library"
   ]
  },
  {
   "cell_type": "code",
   "execution_count": 3,
   "metadata": {
    "gather": {
     "logged": 1679874224379
    }
   },
   "outputs": [
    {
     "name": "stderr",
     "output_type": "stream",
     "text": [
      "[nltk_data] Downloading package stopwords to\n",
      "[nltk_data]     C:\\Users\\arjun\\AppData\\Roaming\\nltk_data...\n",
      "[nltk_data]   Package stopwords is already up-to-date!\n",
      "[nltk_data] Downloading package omw-1.4 to\n",
      "[nltk_data]     C:\\Users\\arjun\\AppData\\Roaming\\nltk_data...\n",
      "[nltk_data]   Package omw-1.4 is already up-to-date!\n",
      "[nltk_data] Downloading package wordnet to\n",
      "[nltk_data]     C:\\Users\\arjun\\AppData\\Roaming\\nltk_data...\n",
      "[nltk_data]   Package wordnet is already up-to-date!\n",
      "[nltk_data] Downloading package vader_lexicon to\n",
      "[nltk_data]     C:\\Users\\arjun\\AppData\\Roaming\\nltk_data...\n",
      "[nltk_data]   Package vader_lexicon is already up-to-date!\n"
     ]
    }
   ],
   "source": [
    "from azureml.core import Dataset\n",
    "from datetime import datetime\n",
    "from dateutil.relativedelta import relativedelta\n",
    "import numpy as np\n",
    "import pandas as pd\n",
    "import re\n",
    "import string\n",
    "import math\n",
    "import nltk\n",
    "nltk.download('stopwords')\n",
    "nltk.download('omw-1.4')\n",
    "from nltk.corpus import stopwords\n",
    "nltk.download('wordnet')\n",
    "from nltk.stem import WordNetLemmatizer\n",
    "from nltk.sentiment import SentimentIntensityAnalyzer\n",
    "nltk.download('vader_lexicon')\n",
    "import matplotlib.pyplot as plt"
   ]
  },
  {
   "cell_type": "markdown",
   "metadata": {},
   "source": [
    "## Import dataset"
   ]
  },
  {
   "cell_type": "code",
   "execution_count": 12,
   "metadata": {
    "gather": {
     "logged": 1679874227675
    },
    "jupyter": {
     "outputs_hidden": false,
     "source_hidden": false
    },
    "nteract": {
     "transient": {
      "deleting": false
     }
    },
    "scrolled": true
   },
   "outputs": [
    {
     "data": {
      "text/html": [
       "<div>\n",
       "<style scoped>\n",
       "    .dataframe tbody tr th:only-of-type {\n",
       "        vertical-align: middle;\n",
       "    }\n",
       "\n",
       "    .dataframe tbody tr th {\n",
       "        vertical-align: top;\n",
       "    }\n",
       "\n",
       "    .dataframe thead th {\n",
       "        text-align: right;\n",
       "    }\n",
       "</style>\n",
       "<table border=\"1\" class=\"dataframe\">\n",
       "  <thead>\n",
       "    <tr style=\"text-align: right;\">\n",
       "      <th></th>\n",
       "      <th>cl1</th>\n",
       "      <th>cl2</th>\n",
       "      <th>cl3</th>\n",
       "      <th>cl4</th>\n",
       "      <th>cl5</th>\n",
       "      <th>cl6</th>\n",
       "    </tr>\n",
       "  </thead>\n",
       "  <tbody>\n",
       "    <tr>\n",
       "      <th>0</th>\n",
       "      <td>0</td>\n",
       "      <td>1467810369</td>\n",
       "      <td>Mon Apr 06 22:19:45 PDT 2009</td>\n",
       "      <td>NO_QUERY</td>\n",
       "      <td>_TheSpecialOne_</td>\n",
       "      <td>@switchfoot http://twitpic.com/2y1zl - Awww, t...</td>\n",
       "    </tr>\n",
       "    <tr>\n",
       "      <th>1</th>\n",
       "      <td>0</td>\n",
       "      <td>1467810672</td>\n",
       "      <td>Mon Apr 06 22:19:49 PDT 2009</td>\n",
       "      <td>NO_QUERY</td>\n",
       "      <td>scotthamilton</td>\n",
       "      <td>is upset that he can't update his Facebook by ...</td>\n",
       "    </tr>\n",
       "    <tr>\n",
       "      <th>2</th>\n",
       "      <td>0</td>\n",
       "      <td>1467810917</td>\n",
       "      <td>Mon Apr 06 22:19:53 PDT 2009</td>\n",
       "      <td>NO_QUERY</td>\n",
       "      <td>mattycus</td>\n",
       "      <td>@Kenichan I dived many times for the ball. Man...</td>\n",
       "    </tr>\n",
       "    <tr>\n",
       "      <th>3</th>\n",
       "      <td>0</td>\n",
       "      <td>1467811184</td>\n",
       "      <td>Mon Apr 06 22:19:57 PDT 2009</td>\n",
       "      <td>NO_QUERY</td>\n",
       "      <td>ElleCTF</td>\n",
       "      <td>my whole body feels itchy and like its on fire</td>\n",
       "    </tr>\n",
       "    <tr>\n",
       "      <th>4</th>\n",
       "      <td>0</td>\n",
       "      <td>1467811193</td>\n",
       "      <td>Mon Apr 06 22:19:57 PDT 2009</td>\n",
       "      <td>NO_QUERY</td>\n",
       "      <td>Karoli</td>\n",
       "      <td>@nationwideclass no, it's not behaving at all....</td>\n",
       "    </tr>\n",
       "    <tr>\n",
       "      <th>...</th>\n",
       "      <td>...</td>\n",
       "      <td>...</td>\n",
       "      <td>...</td>\n",
       "      <td>...</td>\n",
       "      <td>...</td>\n",
       "      <td>...</td>\n",
       "    </tr>\n",
       "    <tr>\n",
       "      <th>1995</th>\n",
       "      <td>0</td>\n",
       "      <td>1468280681</td>\n",
       "      <td>Tue Apr 07 00:43:16 PDT 2009</td>\n",
       "      <td>NO_QUERY</td>\n",
       "      <td>chomma</td>\n",
       "      <td>@roxy_yeah yep a loser.</td>\n",
       "    </tr>\n",
       "    <tr>\n",
       "      <th>1996</th>\n",
       "      <td>0</td>\n",
       "      <td>1468280970</td>\n",
       "      <td>Tue Apr 07 00:43:22 PDT 2009</td>\n",
       "      <td>NO_QUERY</td>\n",
       "      <td>EvilSue</td>\n",
       "      <td>and finito! All bathroom contractors been thru...</td>\n",
       "    </tr>\n",
       "    <tr>\n",
       "      <th>1997</th>\n",
       "      <td>0</td>\n",
       "      <td>1468281170</td>\n",
       "      <td>Tue Apr 07 00:43:26 PDT 2009</td>\n",
       "      <td>NO_QUERY</td>\n",
       "      <td>lexikitty</td>\n",
       "      <td>@caitlinaudrey awww!  that sucks! are you goin...</td>\n",
       "    </tr>\n",
       "    <tr>\n",
       "      <th>1998</th>\n",
       "      <td>0</td>\n",
       "      <td>1468281205</td>\n",
       "      <td>Tue Apr 07 00:43:29 PDT 2009</td>\n",
       "      <td>NO_QUERY</td>\n",
       "      <td>terrajen</td>\n",
       "      <td>Sorry, SF. Rescheduling my SF trip for this co...</td>\n",
       "    </tr>\n",
       "    <tr>\n",
       "      <th>1999</th>\n",
       "      <td>0</td>\n",
       "      <td>1468281484</td>\n",
       "      <td>Tue Apr 07 00:43:33 PDT 2009</td>\n",
       "      <td>NO_QUERY</td>\n",
       "      <td>MonBon_</td>\n",
       "      <td>2morw  I get my blasted wisdom teeth pulled! N...</td>\n",
       "    </tr>\n",
       "  </tbody>\n",
       "</table>\n",
       "<p>2000 rows × 6 columns</p>\n",
       "</div>"
      ],
      "text/plain": [
       "      cl1         cl2                           cl3       cl4  \\\n",
       "0       0  1467810369  Mon Apr 06 22:19:45 PDT 2009  NO_QUERY   \n",
       "1       0  1467810672  Mon Apr 06 22:19:49 PDT 2009  NO_QUERY   \n",
       "2       0  1467810917  Mon Apr 06 22:19:53 PDT 2009  NO_QUERY   \n",
       "3       0  1467811184  Mon Apr 06 22:19:57 PDT 2009  NO_QUERY   \n",
       "4       0  1467811193  Mon Apr 06 22:19:57 PDT 2009  NO_QUERY   \n",
       "...   ...         ...                           ...       ...   \n",
       "1995    0  1468280681  Tue Apr 07 00:43:16 PDT 2009  NO_QUERY   \n",
       "1996    0  1468280970  Tue Apr 07 00:43:22 PDT 2009  NO_QUERY   \n",
       "1997    0  1468281170  Tue Apr 07 00:43:26 PDT 2009  NO_QUERY   \n",
       "1998    0  1468281205  Tue Apr 07 00:43:29 PDT 2009  NO_QUERY   \n",
       "1999    0  1468281484  Tue Apr 07 00:43:33 PDT 2009  NO_QUERY   \n",
       "\n",
       "                  cl5                                                cl6  \n",
       "0     _TheSpecialOne_  @switchfoot http://twitpic.com/2y1zl - Awww, t...  \n",
       "1       scotthamilton  is upset that he can't update his Facebook by ...  \n",
       "2            mattycus  @Kenichan I dived many times for the ball. Man...  \n",
       "3             ElleCTF    my whole body feels itchy and like its on fire   \n",
       "4              Karoli  @nationwideclass no, it's not behaving at all....  \n",
       "...               ...                                                ...  \n",
       "1995           chomma                          @roxy_yeah yep a loser.    \n",
       "1996          EvilSue  and finito! All bathroom contractors been thru...  \n",
       "1997        lexikitty  @caitlinaudrey awww!  that sucks! are you goin...  \n",
       "1998         terrajen  Sorry, SF. Rescheduling my SF trip for this co...  \n",
       "1999          MonBon_  2morw  I get my blasted wisdom teeth pulled! N...  \n",
       "\n",
       "[2000 rows x 6 columns]"
      ]
     },
     "execution_count": 12,
     "metadata": {},
     "output_type": "execute_result"
    }
   ],
   "source": [
    "# azureml-core of version 1.0.72 or higher is required\n",
    "# azureml-dataprep[pandas] of version 1.1.34 or higher is required\n",
    "from azureml.core import Workspace, Dataset\n",
    "\n",
    "subscription_id = 'd61b5034-941c-4a0f-9918-5dcfe01f46fd'\n",
    "resource_group = 'rg-arjun-ai'\n",
    "workspace_name = 'ML-arjun'\n",
    "\n",
    "workspace = Workspace(subscription_id, resource_group, workspace_name)\n",
    "\n",
    "dataset = Dataset.get_by_name(workspace, name='twitter_asset')\n",
    "df = dataset.to_pandas_dataframe()\n",
    "df"
   ]
  },
  {
   "cell_type": "markdown",
   "metadata": {},
   "source": [
    "## Data preparation"
   ]
  },
  {
   "cell_type": "code",
   "execution_count": 6,
   "metadata": {
    "gather": {
     "logged": 1679874233271
    },
    "jupyter": {
     "outputs_hidden": false,
     "source_hidden": false
    },
    "nteract": {
     "transient": {
      "deleting": false
     }
    }
   },
   "outputs": [],
   "source": [
    "df.drop(columns=['cl1 ','cl2','cl3','cl4','cl5'], axis=1, inplace=True)\n",
    "\n",
    "df.rename(columns={'cl6':'Tweets'},inplace=True)"
   ]
  },
  {
   "cell_type": "code",
   "execution_count": 7,
   "metadata": {
    "gather": {
     "logged": 1679874236047
    },
    "jupyter": {
     "outputs_hidden": false,
     "source_hidden": false
    },
    "nteract": {
     "transient": {
      "deleting": false
     }
    }
   },
   "outputs": [],
   "source": [
    "sample_data = df.copy()"
   ]
  },
  {
   "cell_type": "code",
   "execution_count": 8,
   "metadata": {
    "gather": {
     "logged": 1679874239237
    },
    "jupyter": {
     "outputs_hidden": false,
     "source_hidden": false
    },
    "nteract": {
     "transient": {
      "deleting": false
     }
    }
   },
   "outputs": [
    {
     "data": {
      "text/plain": [
       "(2000, 1)"
      ]
     },
     "execution_count": 8,
     "metadata": {},
     "output_type": "execute_result"
    }
   ],
   "source": [
    "sample_data.shape"
   ]
  },
  {
   "cell_type": "markdown",
   "metadata": {},
   "source": [
    "### Defining Functions"
   ]
  },
  {
   "cell_type": "code",
   "execution_count": 9,
   "metadata": {
    "gather": {
     "logged": 1679874241084
    },
    "jupyter": {
     "outputs_hidden": false,
     "source_hidden": false
    },
    "nteract": {
     "transient": {
      "deleting": false
     }
    }
   },
   "outputs": [],
   "source": [
    "contractions_dict = {\"ain't\": \"are not\",\"'s\":\" is\",\"aren't\": \"are not\", \"doesn't\":\"does not\",\"who'll\":\"who will\", \"you'll\":\"you will\"}\n",
    "# Regular expression for finding contractions\n",
    "contractions_re=re.compile('(%s)' % '|'.join(contractions_dict.keys()))\n",
    "def expand_contractions(text,contractions_dict=contractions_dict):\n",
    "    def replace(match):\n",
    "        return contractions_dict[match.group(0)]\n",
    "    return contractions_re.sub(replace, text)"
   ]
  },
  {
   "cell_type": "code",
   "execution_count": 10,
   "metadata": {
    "gather": {
     "logged": 1679874242770
    },
    "jupyter": {
     "outputs_hidden": false,
     "source_hidden": false
    },
    "nteract": {
     "transient": {
      "deleting": false
     }
    }
   },
   "outputs": [],
   "source": [
    "#remove stopwords\n",
    "stop_words = set(stopwords.words('english'))\n",
    "stop_words.add('http')\n",
    "def remove_stopwords(text):\n",
    "    return \" \".join([word for word in str(text).split() if word not in stop_words])"
   ]
  },
  {
   "cell_type": "code",
   "execution_count": 11,
   "metadata": {
    "gather": {
     "logged": 1679874244197
    },
    "jupyter": {
     "outputs_hidden": false,
     "source_hidden": false
    },
    "nteract": {
     "transient": {
      "deleting": false
     }
    }
   },
   "outputs": [],
   "source": [
    "lemmatizer = WordNetLemmatizer()\n",
    "def lemmatize_words(text):\n",
    "    return \" \".join([lemmatizer.lemmatize(word) for word in text.split()])"
   ]
  },
  {
   "cell_type": "code",
   "execution_count": 12,
   "metadata": {
    "gather": {
     "logged": 1679874257220
    },
    "jupyter": {
     "outputs_hidden": false,
     "source_hidden": false
    },
    "nteract": {
     "transient": {
      "deleting": false
     }
    }
   },
   "outputs": [],
   "source": [
    "sample_data['Tweets'] = sample_data['Tweets'].apply(lambda x: re.sub(r\"\\S*https?:\\S*\", \"\", x)) # remove https links\n",
    "\n",
    "sample_data['Tweets'] = sample_data['Tweets'].apply(lambda x: re.sub( r'(^|[^@\\w])@(\\w{1,15})\\b', '', x )) # remove usernames\n",
    "\n",
    "sample_data['Tweets']= sample_data['Tweets'].apply(lambda x:expand_contractions(x)) # replace contractions\n",
    "\n",
    "sample_data['Tweets']= sample_data['Tweets'].str.lower() # make text lower case\n",
    "\n",
    "sample_data['Tweets']= sample_data['Tweets'].apply(lambda x: re.sub('[%s]' % re.escape(string.punctuation), '' , x)) #remove punctuations\n",
    "\n",
    "sample_data['Tweets']= sample_data['Tweets'].apply(lambda x: re.sub('W*dw*','',x)) \n",
    "\n",
    "sample_data['Tweets']= sample_data['Tweets'].apply(lambda x: remove_stopwords(x)) # remove stopwords\n",
    "\n",
    "sample_data['Tweets']= sample_data['Tweets'].apply(lambda text: lemmatize_words(text)) # lemmatize words"
   ]
  },
  {
   "cell_type": "code",
   "execution_count": 13,
   "metadata": {
    "gather": {
     "logged": 1679874259822
    },
    "jupyter": {
     "outputs_hidden": false,
     "source_hidden": false
    },
    "nteract": {
     "transient": {
      "deleting": false
     }
    }
   },
   "outputs": [],
   "source": [
    "sia = SentimentIntensityAnalyzer()"
   ]
  },
  {
   "cell_type": "code",
   "execution_count": 14,
   "metadata": {
    "gather": {
     "logged": 1679874261066
    },
    "jupyter": {
     "outputs_hidden": false,
     "source_hidden": false
    },
    "nteract": {
     "transient": {
      "deleting": false
     }
    }
   },
   "outputs": [],
   "source": [
    "sample_data['sentiment_scores'] = sample_data['Tweets'].apply(lambda text: sia.polarity_scores(text))\n",
    "sample_data['compound_score'] = sample_data['sentiment_scores'].apply(lambda score_dict: score_dict['compound'])\n",
    "sample_data['sentiment'] = sample_data['compound_score'].apply(lambda score: 'Positive' if score > 0 else (\"Negative\" if score < 0 else \"Neutral\"))"
   ]
  },
  {
   "cell_type": "code",
   "execution_count": 15,
   "metadata": {
    "gather": {
     "logged": 1679874274944
    },
    "jupyter": {
     "outputs_hidden": false,
     "source_hidden": false
    },
    "nteract": {
     "transient": {
      "deleting": false
     }
    }
   },
   "outputs": [
    {
     "data": {
      "text/html": [
       "<div>\n",
       "<style scoped>\n",
       "    .dataframe tbody tr th:only-of-type {\n",
       "        vertical-align: middle;\n",
       "    }\n",
       "\n",
       "    .dataframe tbody tr th {\n",
       "        vertical-align: top;\n",
       "    }\n",
       "\n",
       "    .dataframe thead th {\n",
       "        text-align: right;\n",
       "    }\n",
       "</style>\n",
       "<table border=\"1\" class=\"dataframe\">\n",
       "  <thead>\n",
       "    <tr style=\"text-align: right;\">\n",
       "      <th></th>\n",
       "      <th>Reformed_Tweets</th>\n",
       "      <th>sentiment_scores</th>\n",
       "      <th>compound_score</th>\n",
       "      <th>sentiment</th>\n",
       "    </tr>\n",
       "  </thead>\n",
       "  <tbody>\n",
       "    <tr>\n",
       "      <th>0</th>\n",
       "      <td>awww bummer shoula got avi carr thir ay</td>\n",
       "      <td>{'neg': 0.271, 'neu': 0.729, 'pos': 0.0, 'comp...</td>\n",
       "      <td>-0.3818</td>\n",
       "      <td>Negative</td>\n",
       "    </tr>\n",
       "    <tr>\n",
       "      <th>1</th>\n",
       "      <td>upset cant upate facebook texting might cry re...</td>\n",
       "      <td>{'neg': 0.441, 'neu': 0.559, 'pos': 0.0, 'comp...</td>\n",
       "      <td>-0.7269</td>\n",
       "      <td>Negative</td>\n",
       "    </tr>\n",
       "    <tr>\n",
       "      <th>2</th>\n",
       "      <td>ive many time ball manage save 50 rest go bouns</td>\n",
       "      <td>{'neg': 0.0, 'neu': 0.738, 'pos': 0.262, 'comp...</td>\n",
       "      <td>0.4939</td>\n",
       "      <td>Positive</td>\n",
       "    </tr>\n",
       "    <tr>\n",
       "      <th>3</th>\n",
       "      <td>whole boy feel itchy like fire</td>\n",
       "      <td>{'neg': 0.45, 'neu': 0.3, 'pos': 0.25, 'compou...</td>\n",
       "      <td>-0.2500</td>\n",
       "      <td>Negative</td>\n",
       "    </tr>\n",
       "    <tr>\n",
       "      <th>4</th>\n",
       "      <td>behaving im cant see</td>\n",
       "      <td>{'neg': 0.0, 'neu': 1.0, 'pos': 0.0, 'compound...</td>\n",
       "      <td>0.0000</td>\n",
       "      <td>Neutral</td>\n",
       "    </tr>\n",
       "    <tr>\n",
       "      <th>...</th>\n",
       "      <td>...</td>\n",
       "      <td>...</td>\n",
       "      <td>...</td>\n",
       "      <td>...</td>\n",
       "    </tr>\n",
       "    <tr>\n",
       "      <th>1995</th>\n",
       "      <td>yep loser</td>\n",
       "      <td>{'neg': 0.607, 'neu': 0.0, 'pos': 0.393, 'comp...</td>\n",
       "      <td>-0.2960</td>\n",
       "      <td>Negative</td>\n",
       "    </tr>\n",
       "    <tr>\n",
       "      <th>1996</th>\n",
       "      <td>finito bathroom contractor thru house quote in...</td>\n",
       "      <td>{'neg': 0.0, 'neu': 1.0, 'pos': 0.0, 'compound...</td>\n",
       "      <td>0.0000</td>\n",
       "      <td>Neutral</td>\n",
       "    </tr>\n",
       "    <tr>\n",
       "      <th>1997</th>\n",
       "      <td>awww suck going syney one</td>\n",
       "      <td>{'neg': 0.42, 'neu': 0.58, 'pos': 0.0, 'compou...</td>\n",
       "      <td>-0.4404</td>\n",
       "      <td>Negative</td>\n",
       "    </tr>\n",
       "    <tr>\n",
       "      <th>1998</th>\n",
       "      <td>sorry sf rescheuling sf trip coming weeken mi ...</td>\n",
       "      <td>{'neg': 0.115, 'neu': 0.885, 'pos': 0.0, 'comp...</td>\n",
       "      <td>-0.0772</td>\n",
       "      <td>Negative</td>\n",
       "    </tr>\n",
       "    <tr>\n",
       "      <th>1999</th>\n",
       "      <td>2morw get blaste wisom teeth pulle nee sleepcn...</td>\n",
       "      <td>{'neg': 0.371, 'neu': 0.629, 'pos': 0.0, 'comp...</td>\n",
       "      <td>-0.7096</td>\n",
       "      <td>Negative</td>\n",
       "    </tr>\n",
       "  </tbody>\n",
       "</table>\n",
       "<p>2000 rows × 4 columns</p>\n",
       "</div>"
      ],
      "text/plain": [
       "                                        Reformed_Tweets  \\\n",
       "0               awww bummer shoula got avi carr thir ay   \n",
       "1     upset cant upate facebook texting might cry re...   \n",
       "2       ive many time ball manage save 50 rest go bouns   \n",
       "3                        whole boy feel itchy like fire   \n",
       "4                                  behaving im cant see   \n",
       "...                                                 ...   \n",
       "1995                                          yep loser   \n",
       "1996  finito bathroom contractor thru house quote in...   \n",
       "1997                          awww suck going syney one   \n",
       "1998  sorry sf rescheuling sf trip coming weeken mi ...   \n",
       "1999  2morw get blaste wisom teeth pulle nee sleepcn...   \n",
       "\n",
       "                                       sentiment_scores  compound_score  \\\n",
       "0     {'neg': 0.271, 'neu': 0.729, 'pos': 0.0, 'comp...         -0.3818   \n",
       "1     {'neg': 0.441, 'neu': 0.559, 'pos': 0.0, 'comp...         -0.7269   \n",
       "2     {'neg': 0.0, 'neu': 0.738, 'pos': 0.262, 'comp...          0.4939   \n",
       "3     {'neg': 0.45, 'neu': 0.3, 'pos': 0.25, 'compou...         -0.2500   \n",
       "4     {'neg': 0.0, 'neu': 1.0, 'pos': 0.0, 'compound...          0.0000   \n",
       "...                                                 ...             ...   \n",
       "1995  {'neg': 0.607, 'neu': 0.0, 'pos': 0.393, 'comp...         -0.2960   \n",
       "1996  {'neg': 0.0, 'neu': 1.0, 'pos': 0.0, 'compound...          0.0000   \n",
       "1997  {'neg': 0.42, 'neu': 0.58, 'pos': 0.0, 'compou...         -0.4404   \n",
       "1998  {'neg': 0.115, 'neu': 0.885, 'pos': 0.0, 'comp...         -0.0772   \n",
       "1999  {'neg': 0.371, 'neu': 0.629, 'pos': 0.0, 'comp...         -0.7096   \n",
       "\n",
       "     sentiment  \n",
       "0     Negative  \n",
       "1     Negative  \n",
       "2     Positive  \n",
       "3     Negative  \n",
       "4      Neutral  \n",
       "...        ...  \n",
       "1995  Negative  \n",
       "1996   Neutral  \n",
       "1997  Negative  \n",
       "1998  Negative  \n",
       "1999  Negative  \n",
       "\n",
       "[2000 rows x 4 columns]"
      ]
     },
     "execution_count": 15,
     "metadata": {},
     "output_type": "execute_result"
    }
   ],
   "source": [
    "sample_data.rename(columns={\"Tweets\": \"Reformed_Tweets\"}, inplace=True)\n",
    "sample_data"
   ]
  },
  {
   "cell_type": "code",
   "execution_count": 16,
   "metadata": {
    "gather": {
     "logged": 1679874286379
    },
    "jupyter": {
     "outputs_hidden": false,
     "source_hidden": false
    },
    "nteract": {
     "transient": {
      "deleting": false
     }
    },
    "scrolled": true
   },
   "outputs": [
    {
     "data": {
      "text/html": [
       "<div>\n",
       "<style scoped>\n",
       "    .dataframe tbody tr th:only-of-type {\n",
       "        vertical-align: middle;\n",
       "    }\n",
       "\n",
       "    .dataframe tbody tr th {\n",
       "        vertical-align: top;\n",
       "    }\n",
       "\n",
       "    .dataframe thead th {\n",
       "        text-align: right;\n",
       "    }\n",
       "</style>\n",
       "<table border=\"1\" class=\"dataframe\">\n",
       "  <thead>\n",
       "    <tr style=\"text-align: right;\">\n",
       "      <th></th>\n",
       "      <th>Tweets</th>\n",
       "      <th>Reformed_Tweets</th>\n",
       "      <th>sentiment_scores</th>\n",
       "      <th>compound_score</th>\n",
       "      <th>sentiment</th>\n",
       "    </tr>\n",
       "  </thead>\n",
       "  <tbody>\n",
       "    <tr>\n",
       "      <th>0</th>\n",
       "      <td>@switchfoot http://twitpic.com/2y1zl - Awww, t...</td>\n",
       "      <td>awww bummer shoula got avi carr thir ay</td>\n",
       "      <td>{'neg': 0.271, 'neu': 0.729, 'pos': 0.0, 'comp...</td>\n",
       "      <td>-0.3818</td>\n",
       "      <td>Negative</td>\n",
       "    </tr>\n",
       "    <tr>\n",
       "      <th>1</th>\n",
       "      <td>is upset that he can't update his Facebook by ...</td>\n",
       "      <td>upset cant upate facebook texting might cry re...</td>\n",
       "      <td>{'neg': 0.441, 'neu': 0.559, 'pos': 0.0, 'comp...</td>\n",
       "      <td>-0.7269</td>\n",
       "      <td>Negative</td>\n",
       "    </tr>\n",
       "    <tr>\n",
       "      <th>2</th>\n",
       "      <td>@Kenichan I dived many times for the ball. Man...</td>\n",
       "      <td>ive many time ball manage save 50 rest go bouns</td>\n",
       "      <td>{'neg': 0.0, 'neu': 0.738, 'pos': 0.262, 'comp...</td>\n",
       "      <td>0.4939</td>\n",
       "      <td>Positive</td>\n",
       "    </tr>\n",
       "    <tr>\n",
       "      <th>3</th>\n",
       "      <td>my whole body feels itchy and like its on fire</td>\n",
       "      <td>whole boy feel itchy like fire</td>\n",
       "      <td>{'neg': 0.45, 'neu': 0.3, 'pos': 0.25, 'compou...</td>\n",
       "      <td>-0.2500</td>\n",
       "      <td>Negative</td>\n",
       "    </tr>\n",
       "    <tr>\n",
       "      <th>4</th>\n",
       "      <td>@nationwideclass no, it's not behaving at all....</td>\n",
       "      <td>behaving im cant see</td>\n",
       "      <td>{'neg': 0.0, 'neu': 1.0, 'pos': 0.0, 'compound...</td>\n",
       "      <td>0.0000</td>\n",
       "      <td>Neutral</td>\n",
       "    </tr>\n",
       "    <tr>\n",
       "      <th>...</th>\n",
       "      <td>...</td>\n",
       "      <td>...</td>\n",
       "      <td>...</td>\n",
       "      <td>...</td>\n",
       "      <td>...</td>\n",
       "    </tr>\n",
       "    <tr>\n",
       "      <th>1995</th>\n",
       "      <td>@roxy_yeah yep a loser.</td>\n",
       "      <td>yep loser</td>\n",
       "      <td>{'neg': 0.607, 'neu': 0.0, 'pos': 0.393, 'comp...</td>\n",
       "      <td>-0.2960</td>\n",
       "      <td>Negative</td>\n",
       "    </tr>\n",
       "    <tr>\n",
       "      <th>1996</th>\n",
       "      <td>and finito! All bathroom contractors been thru...</td>\n",
       "      <td>finito bathroom contractor thru house quote in...</td>\n",
       "      <td>{'neg': 0.0, 'neu': 1.0, 'pos': 0.0, 'compound...</td>\n",
       "      <td>0.0000</td>\n",
       "      <td>Neutral</td>\n",
       "    </tr>\n",
       "    <tr>\n",
       "      <th>1997</th>\n",
       "      <td>@caitlinaudrey awww!  that sucks! are you goin...</td>\n",
       "      <td>awww suck going syney one</td>\n",
       "      <td>{'neg': 0.42, 'neu': 0.58, 'pos': 0.0, 'compou...</td>\n",
       "      <td>-0.4404</td>\n",
       "      <td>Negative</td>\n",
       "    </tr>\n",
       "    <tr>\n",
       "      <th>1998</th>\n",
       "      <td>Sorry, SF. Rescheduling my SF trip for this co...</td>\n",
       "      <td>sorry sf rescheuling sf trip coming weeken mi ...</td>\n",
       "      <td>{'neg': 0.115, 'neu': 0.885, 'pos': 0.0, 'comp...</td>\n",
       "      <td>-0.0772</td>\n",
       "      <td>Negative</td>\n",
       "    </tr>\n",
       "    <tr>\n",
       "      <th>1999</th>\n",
       "      <td>2morw  I get my blasted wisdom teeth pulled! N...</td>\n",
       "      <td>2morw get blaste wisom teeth pulle nee sleepcn...</td>\n",
       "      <td>{'neg': 0.371, 'neu': 0.629, 'pos': 0.0, 'comp...</td>\n",
       "      <td>-0.7096</td>\n",
       "      <td>Negative</td>\n",
       "    </tr>\n",
       "  </tbody>\n",
       "</table>\n",
       "<p>2000 rows × 5 columns</p>\n",
       "</div>"
      ],
      "text/plain": [
       "                                                 Tweets  \\\n",
       "0     @switchfoot http://twitpic.com/2y1zl - Awww, t...   \n",
       "1     is upset that he can't update his Facebook by ...   \n",
       "2     @Kenichan I dived many times for the ball. Man...   \n",
       "3       my whole body feels itchy and like its on fire    \n",
       "4     @nationwideclass no, it's not behaving at all....   \n",
       "...                                                 ...   \n",
       "1995                          @roxy_yeah yep a loser.     \n",
       "1996  and finito! All bathroom contractors been thru...   \n",
       "1997  @caitlinaudrey awww!  that sucks! are you goin...   \n",
       "1998  Sorry, SF. Rescheduling my SF trip for this co...   \n",
       "1999  2morw  I get my blasted wisdom teeth pulled! N...   \n",
       "\n",
       "                                        Reformed_Tweets  \\\n",
       "0               awww bummer shoula got avi carr thir ay   \n",
       "1     upset cant upate facebook texting might cry re...   \n",
       "2       ive many time ball manage save 50 rest go bouns   \n",
       "3                        whole boy feel itchy like fire   \n",
       "4                                  behaving im cant see   \n",
       "...                                                 ...   \n",
       "1995                                          yep loser   \n",
       "1996  finito bathroom contractor thru house quote in...   \n",
       "1997                          awww suck going syney one   \n",
       "1998  sorry sf rescheuling sf trip coming weeken mi ...   \n",
       "1999  2morw get blaste wisom teeth pulle nee sleepcn...   \n",
       "\n",
       "                                       sentiment_scores  compound_score  \\\n",
       "0     {'neg': 0.271, 'neu': 0.729, 'pos': 0.0, 'comp...         -0.3818   \n",
       "1     {'neg': 0.441, 'neu': 0.559, 'pos': 0.0, 'comp...         -0.7269   \n",
       "2     {'neg': 0.0, 'neu': 0.738, 'pos': 0.262, 'comp...          0.4939   \n",
       "3     {'neg': 0.45, 'neu': 0.3, 'pos': 0.25, 'compou...         -0.2500   \n",
       "4     {'neg': 0.0, 'neu': 1.0, 'pos': 0.0, 'compound...          0.0000   \n",
       "...                                                 ...             ...   \n",
       "1995  {'neg': 0.607, 'neu': 0.0, 'pos': 0.393, 'comp...         -0.2960   \n",
       "1996  {'neg': 0.0, 'neu': 1.0, 'pos': 0.0, 'compound...          0.0000   \n",
       "1997  {'neg': 0.42, 'neu': 0.58, 'pos': 0.0, 'compou...         -0.4404   \n",
       "1998  {'neg': 0.115, 'neu': 0.885, 'pos': 0.0, 'comp...         -0.0772   \n",
       "1999  {'neg': 0.371, 'neu': 0.629, 'pos': 0.0, 'comp...         -0.7096   \n",
       "\n",
       "     sentiment  \n",
       "0     Negative  \n",
       "1     Negative  \n",
       "2     Positive  \n",
       "3     Negative  \n",
       "4      Neutral  \n",
       "...        ...  \n",
       "1995  Negative  \n",
       "1996   Neutral  \n",
       "1997  Negative  \n",
       "1998  Negative  \n",
       "1999  Negative  \n",
       "\n",
       "[2000 rows x 5 columns]"
      ]
     },
     "execution_count": 16,
     "metadata": {},
     "output_type": "execute_result"
    }
   ],
   "source": [
    "df_transform = pd.concat([df,sample_data], axis=1)\n",
    "df_transform"
   ]
  },
  {
   "cell_type": "markdown",
   "metadata": {},
   "source": [
    "### Visualizations"
   ]
  },
  {
   "cell_type": "markdown",
   "metadata": {},
   "source": [
    "### 1. Word Cloud"
   ]
  },
  {
   "cell_type": "code",
   "execution_count": 19,
   "metadata": {
    "scrolled": true
   },
   "outputs": [
    {
     "data": {
      "image/png": "[encoded data removed]",
      "text/plain": [
       "<Figure size 640x480 with 1 Axes>"
      ]
     },
     "metadata": {},
     "output_type": "display_data"
    }
   ],
   "source": [
    "from wordcloud import WordCloud\n",
    "word_cloud = WordCloud(collocations = False, background_color = 'white').generate(negative_text )\n",
    "plt.imshow(word_cloud, interpolation='bilinear')\n",
    "plt.title(\"Word Cloud of Negative tweets \\n\")\n",
    "plt.axis(\"off\")\n",
    "plt.show()"
   ]
  },
  {
   "cell_type": "code",
   "execution_count": 20,
   "metadata": {
    "scrolled": false
   },
   "outputs": [
    {
     "data": {
      "image/png": "[encoded data removed]",
      "text/plain": [
       "<Figure size 640x480 with 1 Axes>"
      ]
     },
     "metadata": {},
     "output_type": "display_data"
    }
   ],
   "source": [
    "word_cloud = WordCloud(collocations = False, background_color = 'white').generate(positive_text)\n",
    "plt.imshow(word_cloud, interpolation='bilinear')\n",
    "plt.title(\"Word Cloud of Positive tweets \\n\")\n",
    "plt.axis(\"off\")\n",
    "plt.show()"
   ]
  },
  {
   "cell_type": "markdown",
   "metadata": {},
   "source": [
    "#### 2. Histogram"
   ]
  },
  {
   "cell_type": "code",
   "execution_count": 21,
   "metadata": {
    "scrolled": true
   },
   "outputs": [
    {
     "data": {
      "image/png": "[encoded data removed]",
      "text/plain": [
       "<Figure size 640x480 with 1 Axes>"
      ]
     },
     "metadata": {},
     "output_type": "display_data"
    }
   ],
   "source": [
    "plt.hist(sample_data['sentiment'])\n",
    "plt.title(\"Positive tweets vs Negative tweets (on random topic)\")\n",
    "plt.show()"
   ]
  },
  {
   "cell_type": "markdown",
   "metadata": {},
   "source": [
    "### Saving Transformed data"
   ]
  },
  {
   "cell_type": "code",
   "execution_count": 17,
   "metadata": {
    "gather": {
     "logged": 1679874312608
    },
    "jupyter": {
     "outputs_hidden": false,
     "source_hidden": false
    },
    "nteract": {
     "transient": {
      "deleting": false
     }
    }
   },
   "outputs": [],
   "source": [
    "df_transform.to_csv(\"output.csv\", sep=\",\", index=False)"
   ]
  },
  {
   "cell_type": "code",
   "execution_count": null,
   "metadata": {
    "jupyter": {
     "outputs_hidden": false,
     "source_hidden": false
    },
    "nteract": {
     "transient": {
      "deleting": false
     }
    }
   },
   "outputs": [],
   "source": []
  }
 ],
 "metadata": {
  "authors": [
   {
    "name": "jeffshep"
   }
  ],
  "categories": [
   "SDK v1",
   "tutorials"
  ],
  "kernel_info": {
   "name": "python38-azureml"
  },
  "kernelspec": {
   "display_name": "Python 3 (ipykernel)",
   "language": "python",
   "name": "python3"
  },
  "language_info": {
   "codemirror_mode": {
    "name": "ipython",
    "version": 3
   },
   "file_extension": ".py",
   "mimetype": "text/x-python",
   "name": "python",
   "nbconvert_exporter": "python",
   "pygments_lexer": "ipython3",
   "version": "3.9.13"
  },
  "microsoft": {
   "host": {
    "AzureML": {
     "notebookHasBeenCompleted": true
    }
   },
   "ms_spell_check": {
    "ms_spell_check_language": "en"
   }
  },
  "msauthor": "trbye",
  "network_required": false,
  "nteract": {
   "version": "nteract-front-end@1.0.0"
  }
 },
 "nbformat": 4,
 "nbformat_minor": 2
}
