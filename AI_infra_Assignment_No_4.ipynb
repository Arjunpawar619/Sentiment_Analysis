{
 "cells": [
  {
   "cell_type": "markdown",
   "id": "6fdf4b15",
   "metadata": {},
   "source": [
    "### Import Library"
   ]
  },
  {
   "cell_type": "code",
   "execution_count": 68,
   "id": "71173ca0",
   "metadata": {
    "scrolled": true
   },
   "outputs": [
    {
     "name": "stderr",
     "output_type": "stream",
     "text": [
      "[nltk_data] Downloading package stopwords to\n",
      "[nltk_data]     C:\\Users\\arjun\\AppData\\Roaming\\nltk_data...\n",
      "[nltk_data]   Package stopwords is already up-to-date!\n",
      "[nltk_data] Downloading package omw-1.4 to\n",
      "[nltk_data]     C:\\Users\\arjun\\AppData\\Roaming\\nltk_data...\n",
      "[nltk_data]   Package omw-1.4 is already up-to-date!\n",
      "[nltk_data] Downloading package wordnet to\n",
      "[nltk_data]     C:\\Users\\arjun\\AppData\\Roaming\\nltk_data...\n",
      "[nltk_data]   Package wordnet is already up-to-date!\n",
      "[nltk_data] Downloading package vader_lexicon to\n",
      "[nltk_data]     C:\\Users\\arjun\\AppData\\Roaming\\nltk_data...\n",
      "[nltk_data]   Package vader_lexicon is already up-to-date!\n"
     ]
    }
   ],
   "source": [
    "import numpy as np\n",
    "import pandas as pd\n",
    "import re\n",
    "import string\n",
    "import math\n",
    "import nltk\n",
    "nltk.download('stopwords')\n",
    "nltk.download('omw-1.4')\n",
    "from nltk.corpus import stopwords\n",
    "nltk.download('wordnet')\n",
    "from nltk.stem import WordNetLemmatizer\n",
    "from nltk.sentiment import SentimentIntensityAnalyzer\n",
    "nltk.download('vader_lexicon')\n",
    "import matplotlib.pyplot as plt"
   ]
  },
  {
   "cell_type": "markdown",
   "id": "dac1a18a",
   "metadata": {},
   "source": [
    "### Import Dataset"
   ]
  },
  {
   "cell_type": "code",
   "execution_count": 80,
   "id": "6a51e04c",
   "metadata": {
    "scrolled": true
   },
   "outputs": [
    {
     "data": {
      "text/html": [
       "<div>\n",
       "<style scoped>\n",
       "    .dataframe tbody tr th:only-of-type {\n",
       "        vertical-align: middle;\n",
       "    }\n",
       "\n",
       "    .dataframe tbody tr th {\n",
       "        vertical-align: top;\n",
       "    }\n",
       "\n",
       "    .dataframe thead th {\n",
       "        text-align: right;\n",
       "    }\n",
       "</style>\n",
       "<table border=\"1\" class=\"dataframe\">\n",
       "  <thead>\n",
       "    <tr style=\"text-align: right;\">\n",
       "      <th></th>\n",
       "      <th>cl1</th>\n",
       "      <th>cl2</th>\n",
       "      <th>cl3</th>\n",
       "      <th>cl4</th>\n",
       "      <th>cl5</th>\n",
       "      <th>cl6</th>\n",
       "    </tr>\n",
       "  </thead>\n",
       "  <tbody>\n",
       "    <tr>\n",
       "      <th>0</th>\n",
       "      <td>0</td>\n",
       "      <td>1467810369</td>\n",
       "      <td>Mon Apr 06 22:19:45 PDT 2009</td>\n",
       "      <td>NO_QUERY</td>\n",
       "      <td>_TheSpecialOne_</td>\n",
       "      <td>@switchfoot http://twitpic.com/2y1zl - Awww, t...</td>\n",
       "    </tr>\n",
       "    <tr>\n",
       "      <th>1</th>\n",
       "      <td>0</td>\n",
       "      <td>1467810672</td>\n",
       "      <td>Mon Apr 06 22:19:49 PDT 2009</td>\n",
       "      <td>NO_QUERY</td>\n",
       "      <td>scotthamilton</td>\n",
       "      <td>is upset that he can't update his Facebook by ...</td>\n",
       "    </tr>\n",
       "    <tr>\n",
       "      <th>2</th>\n",
       "      <td>0</td>\n",
       "      <td>1467810917</td>\n",
       "      <td>Mon Apr 06 22:19:53 PDT 2009</td>\n",
       "      <td>NO_QUERY</td>\n",
       "      <td>mattycus</td>\n",
       "      <td>@Kenichan I dived many times for the ball. Man...</td>\n",
       "    </tr>\n",
       "    <tr>\n",
       "      <th>3</th>\n",
       "      <td>0</td>\n",
       "      <td>1467811184</td>\n",
       "      <td>Mon Apr 06 22:19:57 PDT 2009</td>\n",
       "      <td>NO_QUERY</td>\n",
       "      <td>ElleCTF</td>\n",
       "      <td>my whole body feels itchy and like its on fire</td>\n",
       "    </tr>\n",
       "    <tr>\n",
       "      <th>4</th>\n",
       "      <td>0</td>\n",
       "      <td>1467811193</td>\n",
       "      <td>Mon Apr 06 22:19:57 PDT 2009</td>\n",
       "      <td>NO_QUERY</td>\n",
       "      <td>Karoli</td>\n",
       "      <td>@nationwideclass no, it's not behaving at all....</td>\n",
       "    </tr>\n",
       "  </tbody>\n",
       "</table>\n",
       "</div>"
      ],
      "text/plain": [
       "   cl1          cl2                           cl3       cl4              cl5  \\\n",
       "0     0  1467810369  Mon Apr 06 22:19:45 PDT 2009  NO_QUERY  _TheSpecialOne_   \n",
       "1     0  1467810672  Mon Apr 06 22:19:49 PDT 2009  NO_QUERY    scotthamilton   \n",
       "2     0  1467810917  Mon Apr 06 22:19:53 PDT 2009  NO_QUERY         mattycus   \n",
       "3     0  1467811184  Mon Apr 06 22:19:57 PDT 2009  NO_QUERY          ElleCTF   \n",
       "4     0  1467811193  Mon Apr 06 22:19:57 PDT 2009  NO_QUERY           Karoli   \n",
       "\n",
       "                                                 cl6  \n",
       "0  @switchfoot http://twitpic.com/2y1zl - Awww, t...  \n",
       "1  is upset that he can't update his Facebook by ...  \n",
       "2  @Kenichan I dived many times for the ball. Man...  \n",
       "3    my whole body feels itchy and like its on fire   \n",
       "4  @nationwideclass no, it's not behaving at all....  "
      ]
     },
     "execution_count": 80,
     "metadata": {},
     "output_type": "execute_result"
    }
   ],
   "source": [
    "data = pd.read_excel('twitter.xlsx')\n",
    "data.head()"
   ]
  },
  {
   "cell_type": "markdown",
   "id": "1a34464d",
   "metadata": {},
   "source": [
    "### Cleaning Data"
   ]
  },
  {
   "cell_type": "code",
   "execution_count": 81,
   "id": "214ae008",
   "metadata": {},
   "outputs": [],
   "source": [
    "data.drop(columns=['cl1 ','cl2','cl3','cl4','cl5'], axis=1, inplace=True)"
   ]
  },
  {
   "cell_type": "code",
   "execution_count": 82,
   "id": "746df9db",
   "metadata": {},
   "outputs": [],
   "source": [
    "data.rename(columns={'cl6':'Tweets'},inplace=True)"
   ]
  },
  {
   "cell_type": "code",
   "execution_count": 84,
   "id": "8cdbaeb3",
   "metadata": {},
   "outputs": [],
   "source": [
    "sample_data = data"
   ]
  },
  {
   "cell_type": "markdown",
   "id": "b84a91f6",
   "metadata": {},
   "source": [
    "### Dataset shape"
   ]
  },
  {
   "cell_type": "code",
   "execution_count": 85,
   "id": "2a9b8a58",
   "metadata": {
    "scrolled": false
   },
   "outputs": [
    {
     "data": {
      "text/plain": [
       "(2000, 1)"
      ]
     },
     "execution_count": 85,
     "metadata": {},
     "output_type": "execute_result"
    }
   ],
   "source": [
    "sample_data.shape"
   ]
  },
  {
   "cell_type": "markdown",
   "id": "03743315",
   "metadata": {},
   "source": [
    "### Defining Functions"
   ]
  },
  {
   "cell_type": "code",
   "execution_count": 41,
   "id": "53fb1354",
   "metadata": {},
   "outputs": [],
   "source": [
    "contractions_dict = {\"ain't\": \"are not\",\"'s\":\" is\",\"aren't\": \"are not\", \"doesn't\":\"does not\",\"who'll\":\"who will\", \"you'll\":\"you will\"}\n",
    "# Regular expression for finding contractions\n",
    "contractions_re=re.compile('(%s)' % '|'.join(contractions_dict.keys()))\n",
    "def expand_contractions(text,contractions_dict=contractions_dict):\n",
    "    def replace(match):\n",
    "        return contractions_dict[match.group(0)]\n",
    "    return contractions_re.sub(replace, text)\n"
   ]
  },
  {
   "cell_type": "code",
   "execution_count": 53,
   "id": "2d13bcee",
   "metadata": {},
   "outputs": [],
   "source": [
    "#remove stopwords\n",
    "stop_words = set(stopwords.words('english'))\n",
    "stop_words.add('http')\n",
    "def remove_stopwords(text):\n",
    "    return \" \".join([word for word in str(text).split() if word not in stop_words])\n"
   ]
  },
  {
   "cell_type": "code",
   "execution_count": 58,
   "id": "c41d6ed8",
   "metadata": {},
   "outputs": [],
   "source": [
    "lemmatizer = WordNetLemmatizer()\n",
    "def lemmatize_words(text):\n",
    "    return \" \".join([lemmatizer.lemmatize(word) for word in text.split()])"
   ]
  },
  {
   "cell_type": "markdown",
   "id": "27340b4d",
   "metadata": {},
   "source": [
    "### Data Preparation"
   ]
  },
  {
   "cell_type": "code",
   "execution_count": 87,
   "id": "cd55cdac",
   "metadata": {},
   "outputs": [],
   "source": [
    "sample_data['Tweets']= sample_data['Tweets'].apply(lambda x:expand_contractions(x))"
   ]
  },
  {
   "cell_type": "code",
   "execution_count": 88,
   "id": "500d7691",
   "metadata": {},
   "outputs": [],
   "source": [
    "sample_data['Tweets']= sample_data['Tweets'].str.lower()"
   ]
  },
  {
   "cell_type": "code",
   "execution_count": 89,
   "id": "bb269ac8",
   "metadata": {},
   "outputs": [],
   "source": [
    "sample_data['Tweets']= sample_data['Tweets'].apply(lambda x: re.sub('[%s]' % re.escape(string.punctuation), '' , x))"
   ]
  },
  {
   "cell_type": "code",
   "execution_count": 90,
   "id": "44dc3226",
   "metadata": {},
   "outputs": [],
   "source": [
    "sample_data['Tweets']= sample_data['Tweets'].apply(lambda x: re.sub('W*dw*','',x))"
   ]
  },
  {
   "cell_type": "code",
   "execution_count": 91,
   "id": "769c0898",
   "metadata": {},
   "outputs": [],
   "source": [
    "sample_data['Tweets']= sample_data['Tweets'].apply(lambda x: remove_stopwords(x))"
   ]
  },
  {
   "cell_type": "code",
   "execution_count": 92,
   "id": "3b77df64",
   "metadata": {},
   "outputs": [],
   "source": [
    "sample_data['Tweets']= sample_data['Tweets'].apply(lambda text: lemmatize_words(text))"
   ]
  },
  {
   "cell_type": "markdown",
   "id": "bc096eab",
   "metadata": {},
   "source": [
    "### Sentiment Analysis"
   ]
  },
  {
   "cell_type": "code",
   "execution_count": 93,
   "id": "4d1baef4",
   "metadata": {},
   "outputs": [],
   "source": [
    "sia = SentimentIntensityAnalyzer()"
   ]
  },
  {
   "cell_type": "code",
   "execution_count": 94,
   "id": "c3606931",
   "metadata": {},
   "outputs": [],
   "source": [
    "sample_data['sentiment_scores'] = sample_data['Tweets'].apply(lambda text: sia.polarity_scores(text))\n",
    "sample_data['compound_score'] = sample_data['sentiment_scores'].apply(lambda score_dict: score_dict['compound'])\n",
    "sample_data['sentiment'] = sample_data['compound_score'].apply(lambda score: 'positive' if score >= 0 else 'negative')"
   ]
  },
  {
   "cell_type": "code",
   "execution_count": 95,
   "id": "b29ebb03",
   "metadata": {
    "scrolled": true
   },
   "outputs": [
    {
     "data": {
      "text/html": [
       "<div>\n",
       "<style scoped>\n",
       "    .dataframe tbody tr th:only-of-type {\n",
       "        vertical-align: middle;\n",
       "    }\n",
       "\n",
       "    .dataframe tbody tr th {\n",
       "        vertical-align: top;\n",
       "    }\n",
       "\n",
       "    .dataframe thead th {\n",
       "        text-align: right;\n",
       "    }\n",
       "</style>\n",
       "<table border=\"1\" class=\"dataframe\">\n",
       "  <thead>\n",
       "    <tr style=\"text-align: right;\">\n",
       "      <th></th>\n",
       "      <th>Tweets</th>\n",
       "      <th>sentiment_scores</th>\n",
       "      <th>compound_score</th>\n",
       "      <th>sentiment</th>\n",
       "    </tr>\n",
       "  </thead>\n",
       "  <tbody>\n",
       "    <tr>\n",
       "      <th>0</th>\n",
       "      <td>switchfoot httptwitpiccom2y1zl awww bummer sho...</td>\n",
       "      <td>{'neg': 0.224, 'neu': 0.776, 'pos': 0.0, 'comp...</td>\n",
       "      <td>-0.3818</td>\n",
       "      <td>negative</td>\n",
       "    </tr>\n",
       "    <tr>\n",
       "      <th>1</th>\n",
       "      <td>upset cant upate facebook texting might cry re...</td>\n",
       "      <td>{'neg': 0.441, 'neu': 0.559, 'pos': 0.0, 'comp...</td>\n",
       "      <td>-0.7269</td>\n",
       "      <td>negative</td>\n",
       "    </tr>\n",
       "    <tr>\n",
       "      <th>2</th>\n",
       "      <td>kenichan ive many time ball manage save 50 res...</td>\n",
       "      <td>{'neg': 0.0, 'neu': 0.758, 'pos': 0.242, 'comp...</td>\n",
       "      <td>0.4939</td>\n",
       "      <td>positive</td>\n",
       "    </tr>\n",
       "    <tr>\n",
       "      <th>3</th>\n",
       "      <td>whole boy feel itchy like fire</td>\n",
       "      <td>{'neg': 0.45, 'neu': 0.3, 'pos': 0.25, 'compou...</td>\n",
       "      <td>-0.2500</td>\n",
       "      <td>negative</td>\n",
       "    </tr>\n",
       "    <tr>\n",
       "      <th>4</th>\n",
       "      <td>nationwieclass behaving im cant see</td>\n",
       "      <td>{'neg': 0.0, 'neu': 1.0, 'pos': 0.0, 'compound...</td>\n",
       "      <td>0.0000</td>\n",
       "      <td>positive</td>\n",
       "    </tr>\n",
       "  </tbody>\n",
       "</table>\n",
       "</div>"
      ],
      "text/plain": [
       "                                              Tweets  \\\n",
       "0  switchfoot httptwitpiccom2y1zl awww bummer sho...   \n",
       "1  upset cant upate facebook texting might cry re...   \n",
       "2  kenichan ive many time ball manage save 50 res...   \n",
       "3                     whole boy feel itchy like fire   \n",
       "4                nationwieclass behaving im cant see   \n",
       "\n",
       "                                    sentiment_scores  compound_score sentiment  \n",
       "0  {'neg': 0.224, 'neu': 0.776, 'pos': 0.0, 'comp...         -0.3818  negative  \n",
       "1  {'neg': 0.441, 'neu': 0.559, 'pos': 0.0, 'comp...         -0.7269  negative  \n",
       "2  {'neg': 0.0, 'neu': 0.758, 'pos': 0.242, 'comp...          0.4939  positive  \n",
       "3  {'neg': 0.45, 'neu': 0.3, 'pos': 0.25, 'compou...         -0.2500  negative  \n",
       "4  {'neg': 0.0, 'neu': 1.0, 'pos': 0.0, 'compound...          0.0000  positive  "
      ]
     },
     "execution_count": 95,
     "metadata": {},
     "output_type": "execute_result"
    }
   ],
   "source": [
    "sample_data.head()"
   ]
  },
  {
   "cell_type": "code",
   "execution_count": 121,
   "id": "be3c08fd",
   "metadata": {},
   "outputs": [],
   "source": [
    "#Top ten postive tweets and top negative tweets\n",
    "sample_data['testing']= sample_data['compound_score'].apply(lambda x: \"Positive\" if x>0.9 else (\"Negative\" if x < -0.85 else \"Nothing\"))"
   ]
  },
  {
   "cell_type": "markdown",
   "id": "2561a413",
   "metadata": {},
   "source": [
    "### Top Ten Positive tweets"
   ]
  },
  {
   "cell_type": "code",
   "execution_count": 133,
   "id": "c6e41281",
   "metadata": {
    "scrolled": false
   },
   "outputs": [
    {
     "data": {
      "text/html": [
       "<div>\n",
       "<style scoped>\n",
       "    .dataframe tbody tr th:only-of-type {\n",
       "        vertical-align: middle;\n",
       "    }\n",
       "\n",
       "    .dataframe tbody tr th {\n",
       "        vertical-align: top;\n",
       "    }\n",
       "\n",
       "    .dataframe thead th {\n",
       "        text-align: right;\n",
       "    }\n",
       "</style>\n",
       "<table border=\"1\" class=\"dataframe\">\n",
       "  <thead>\n",
       "    <tr style=\"text-align: right;\">\n",
       "      <th></th>\n",
       "      <th>index</th>\n",
       "      <th>Tweets</th>\n",
       "      <th>sentiment_scores</th>\n",
       "      <th>compound_score</th>\n",
       "      <th>sentiment</th>\n",
       "      <th>testing</th>\n",
       "    </tr>\n",
       "  </thead>\n",
       "  <tbody>\n",
       "    <tr>\n",
       "      <th>0</th>\n",
       "      <td>115</td>\n",
       "      <td>merceesashley amn grin inspirational saening t...</td>\n",
       "      <td>{'neg': 0.093, 'neu': 0.297, 'pos': 0.61, 'com...</td>\n",
       "      <td>0.9042</td>\n",
       "      <td>positive</td>\n",
       "      <td>Positive</td>\n",
       "    </tr>\n",
       "    <tr>\n",
       "      <th>1</th>\n",
       "      <td>134</td>\n",
       "      <td>im missing babe long alive im happy yawwwnn im...</td>\n",
       "      <td>{'neg': 0.076, 'neu': 0.382, 'pos': 0.542, 'co...</td>\n",
       "      <td>0.9246</td>\n",
       "      <td>positive</td>\n",
       "      <td>Positive</td>\n",
       "    </tr>\n",
       "    <tr>\n",
       "      <th>2</th>\n",
       "      <td>222</td>\n",
       "      <td>paulaabul awww goo luck paula please ont work ...</td>\n",
       "      <td>{'neg': 0.0, 'neu': 0.418, 'pos': 0.582, 'comp...</td>\n",
       "      <td>0.9360</td>\n",
       "      <td>positive</td>\n",
       "      <td>Positive</td>\n",
       "    </tr>\n",
       "    <tr>\n",
       "      <th>3</th>\n",
       "      <td>1042</td>\n",
       "      <td>pretty goo coaching exceptional talent trounce...</td>\n",
       "      <td>{'neg': 0.0, 'neu': 0.4, 'pos': 0.6, 'compound...</td>\n",
       "      <td>0.9001</td>\n",
       "      <td>positive</td>\n",
       "      <td>Positive</td>\n",
       "    </tr>\n",
       "    <tr>\n",
       "      <th>4</th>\n",
       "      <td>1582</td>\n",
       "      <td>best monay ever misse gossip girl oh well spen...</td>\n",
       "      <td>{'neg': 0.066, 'neu': 0.386, 'pos': 0.548, 'co...</td>\n",
       "      <td>0.9260</td>\n",
       "      <td>positive</td>\n",
       "      <td>Positive</td>\n",
       "    </tr>\n",
       "  </tbody>\n",
       "</table>\n",
       "</div>"
      ],
      "text/plain": [
       "   index                                             Tweets  \\\n",
       "0    115  merceesashley amn grin inspirational saening t...   \n",
       "1    134  im missing babe long alive im happy yawwwnn im...   \n",
       "2    222  paulaabul awww goo luck paula please ont work ...   \n",
       "3   1042  pretty goo coaching exceptional talent trounce...   \n",
       "4   1582  best monay ever misse gossip girl oh well spen...   \n",
       "\n",
       "                                    sentiment_scores  compound_score  \\\n",
       "0  {'neg': 0.093, 'neu': 0.297, 'pos': 0.61, 'com...          0.9042   \n",
       "1  {'neg': 0.076, 'neu': 0.382, 'pos': 0.542, 'co...          0.9246   \n",
       "2  {'neg': 0.0, 'neu': 0.418, 'pos': 0.582, 'comp...          0.9360   \n",
       "3  {'neg': 0.0, 'neu': 0.4, 'pos': 0.6, 'compound...          0.9001   \n",
       "4  {'neg': 0.066, 'neu': 0.386, 'pos': 0.548, 'co...          0.9260   \n",
       "\n",
       "  sentiment   testing  \n",
       "0  positive  Positive  \n",
       "1  positive  Positive  \n",
       "2  positive  Positive  \n",
       "3  positive  Positive  \n",
       "4  positive  Positive  "
      ]
     },
     "execution_count": 133,
     "metadata": {},
     "output_type": "execute_result"
    }
   ],
   "source": [
    "Top_positive_comments = sample_data[sample_data['testing'] == \"Positive\"]\n",
    "Top_positive_comments = Top_positive_comments.reset_index()\n",
    "Top_positive_comments"
   ]
  },
  {
   "cell_type": "markdown",
   "id": "1744c95f",
   "metadata": {},
   "source": [
    "### Top Ten Negative tweets"
   ]
  },
  {
   "cell_type": "code",
   "execution_count": 137,
   "id": "6683f585",
   "metadata": {
    "scrolled": false
   },
   "outputs": [
    {
     "data": {
      "text/html": [
       "<div>\n",
       "<style scoped>\n",
       "    .dataframe tbody tr th:only-of-type {\n",
       "        vertical-align: middle;\n",
       "    }\n",
       "\n",
       "    .dataframe tbody tr th {\n",
       "        vertical-align: top;\n",
       "    }\n",
       "\n",
       "    .dataframe thead th {\n",
       "        text-align: right;\n",
       "    }\n",
       "</style>\n",
       "<table border=\"1\" class=\"dataframe\">\n",
       "  <thead>\n",
       "    <tr style=\"text-align: right;\">\n",
       "      <th></th>\n",
       "      <th>index</th>\n",
       "      <th>Tweets</th>\n",
       "      <th>sentiment_scores</th>\n",
       "      <th>compound_score</th>\n",
       "      <th>sentiment</th>\n",
       "      <th>testing</th>\n",
       "    </tr>\n",
       "  </thead>\n",
       "  <tbody>\n",
       "    <tr>\n",
       "      <th>0</th>\n",
       "      <td>72</td>\n",
       "      <td>really hate people i ban trace clearly ugly</td>\n",
       "      <td>{'neg': 0.662, 'neu': 0.178, 'pos': 0.16, 'com...</td>\n",
       "      <td>-0.8576</td>\n",
       "      <td>negative</td>\n",
       "      <td>Negative</td>\n",
       "    </tr>\n",
       "    <tr>\n",
       "      <th>1</th>\n",
       "      <td>123</td>\n",
       "      <td>pain back sies hurt mention cry mae fail</td>\n",
       "      <td>{'neg': 0.769, 'neu': 0.231, 'pos': 0.0, 'comp...</td>\n",
       "      <td>-0.9231</td>\n",
       "      <td>negative</td>\n",
       "      <td>Negative</td>\n",
       "    </tr>\n",
       "    <tr>\n",
       "      <th>2</th>\n",
       "      <td>937</td>\n",
       "      <td>rumlover empty rum barrel sa rum barrel shake ...</td>\n",
       "      <td>{'neg': 0.609, 'neu': 0.391, 'pos': 0.0, 'comp...</td>\n",
       "      <td>-0.8720</td>\n",
       "      <td>negative</td>\n",
       "      <td>Negative</td>\n",
       "    </tr>\n",
       "    <tr>\n",
       "      <th>3</th>\n",
       "      <td>1178</td>\n",
       "      <td>horrible sore throat hurt</td>\n",
       "      <td>{'neg': 0.904, 'neu': 0.096, 'pos': 0.0, 'comp...</td>\n",
       "      <td>-0.8555</td>\n",
       "      <td>negative</td>\n",
       "      <td>Negative</td>\n",
       "    </tr>\n",
       "    <tr>\n",
       "      <th>4</th>\n",
       "      <td>1505</td>\n",
       "      <td>blahhh throat sore amp keep coughing hate sick</td>\n",
       "      <td>{'neg': 0.655, 'neu': 0.345, 'pos': 0.0, 'comp...</td>\n",
       "      <td>-0.8591</td>\n",
       "      <td>negative</td>\n",
       "      <td>Negative</td>\n",
       "    </tr>\n",
       "  </tbody>\n",
       "</table>\n",
       "</div>"
      ],
      "text/plain": [
       "   index                                             Tweets  \\\n",
       "0     72        really hate people i ban trace clearly ugly   \n",
       "1    123           pain back sies hurt mention cry mae fail   \n",
       "2    937  rumlover empty rum barrel sa rum barrel shake ...   \n",
       "3   1178                          horrible sore throat hurt   \n",
       "4   1505     blahhh throat sore amp keep coughing hate sick   \n",
       "\n",
       "                                    sentiment_scores  compound_score  \\\n",
       "0  {'neg': 0.662, 'neu': 0.178, 'pos': 0.16, 'com...         -0.8576   \n",
       "1  {'neg': 0.769, 'neu': 0.231, 'pos': 0.0, 'comp...         -0.9231   \n",
       "2  {'neg': 0.609, 'neu': 0.391, 'pos': 0.0, 'comp...         -0.8720   \n",
       "3  {'neg': 0.904, 'neu': 0.096, 'pos': 0.0, 'comp...         -0.8555   \n",
       "4  {'neg': 0.655, 'neu': 0.345, 'pos': 0.0, 'comp...         -0.8591   \n",
       "\n",
       "  sentiment   testing  \n",
       "0  negative  Negative  \n",
       "1  negative  Negative  \n",
       "2  negative  Negative  \n",
       "3  negative  Negative  \n",
       "4  negative  Negative  "
      ]
     },
     "execution_count": 137,
     "metadata": {},
     "output_type": "execute_result"
    }
   ],
   "source": [
    "Top_negative_comments = sample_data[sample_data['testing'] == \"Negative\"]\n",
    "Top_negative_comments = Top_negative_comments.reset_index()\n",
    "Top_negative_comments"
   ]
  },
  {
   "cell_type": "code",
   "execution_count": null,
   "id": "ff1140cb",
   "metadata": {},
   "outputs": [],
   "source": [
    "negative_dict = {'hate':2, 'ugly':1, 'pain':1,'hurt':3,'horror':5}\n",
    "positive_dict = {'inspirational':1,'like':1,'love':3, 'happy':1, 'fun':1, 'best':1, 'well':1, 'pretty':2, 'wonderful':1}"
   ]
  },
  {
   "cell_type": "code",
   "execution_count": 150,
   "id": "a3a1025a",
   "metadata": {},
   "outputs": [],
   "source": [
    "negative_text = \"hate hate ugly pain hurt hurt hurt hurt hurt horror horror horror horror horror horror\"\n",
    "positive_text = 'love love love love love pretty pretty pretty best happy like pretty wonderful'"
   ]
  },
  {
   "cell_type": "markdown",
   "id": "5ad04950",
   "metadata": {},
   "source": [
    "### Visualizations"
   ]
  },
  {
   "cell_type": "markdown",
   "id": "1e6a6763",
   "metadata": {},
   "source": [
    "#### 1. Word Cloud"
   ]
  },
  {
   "cell_type": "code",
   "execution_count": 148,
   "id": "bc9af526",
   "metadata": {
    "scrolled": true
   },
   "outputs": [
    {
     "data": {
      "image/png": "[encoded data removed]",
      "text/plain": [
       "<Figure size 640x480 with 1 Axes>"
      ]
     },
     "metadata": {},
     "output_type": "display_data"
    }
   ],
   "source": [
    "from wordcloud import WordCloud\n",
    "word_cloud = WordCloud(collocations = False, background_color = 'white').generate(negative_text )\n",
    "plt.imshow(word_cloud, interpolation='bilinear')\n",
    "plt.title(\"Word Cloud of Negative tweets \\n\")\n",
    "plt.axis(\"off\")\n",
    "plt.show()"
   ]
  },
  {
   "cell_type": "code",
   "execution_count": 151,
   "id": "e8a66260",
   "metadata": {
    "scrolled": true
   },
   "outputs": [
    {
     "data": {
      "image/png": "[encoded data removed]",
      "text/plain": [
       "<Figure size 640x480 with 1 Axes>"
      ]
     },
     "metadata": {},
     "output_type": "display_data"
    }
   ],
   "source": [
    "word_cloud = WordCloud(collocations = False, background_color = 'white').generate(positive_text)\n",
    "plt.imshow(word_cloud, interpolation='bilinear')\n",
    "plt.title(\"Word Cloud of Positive tweets \\n\")\n",
    "plt.axis(\"off\")\n",
    "plt.show()"
   ]
  },
  {
   "cell_type": "markdown",
   "id": "2061365b",
   "metadata": {},
   "source": [
    "#### 2. Histogram"
   ]
  },
  {
   "cell_type": "code",
   "execution_count": 154,
   "id": "df88d750",
   "metadata": {},
   "outputs": [
    {
     "data": {
      "image/png": "[encoded data removed]",
      "text/plain": [
       "<Figure size 640x480 with 1 Axes>"
      ]
     },
     "metadata": {},
     "output_type": "display_data"
    }
   ],
   "source": [
    "plt.hist(sample_data['sentiment'])\n",
    "plt.title(\"Positive tweets vs Negative tweets (on random topic)\")\n",
    "plt.show()"
   ]
  },
  {
   "cell_type": "code",
   "execution_count": null,
   "id": "53d2f70f",
   "metadata": {},
   "outputs": [],
   "source": []
  }
 ],
 "metadata": {
  "kernelspec": {
   "display_name": "Python 3 (ipykernel)",
   "language": "python",
   "name": "python3"
  },
  "language_info": {
   "codemirror_mode": {
    "name": "ipython",
    "version": 3
   },
   "file_extension": ".py",
   "mimetype": "text/x-python",
   "name": "python",
   "nbconvert_exporter": "python",
   "pygments_lexer": "ipython3",
   "version": "3.9.13"
  }
 },
 "nbformat": 4,
 "nbformat_minor": 5
}
